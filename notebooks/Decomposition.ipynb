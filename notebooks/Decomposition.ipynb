{
 "cells": [
  {
   "cell_type": "code",
   "execution_count": 3,
   "metadata": {
    "collapsed": true
   },
   "outputs": [],
   "source": [
    "import pywt\n",
    "from pywt import wavedec\n",
    "import matplotlib.pyplot as plt"
   ]
  },
  {
   "cell_type": "code",
   "execution_count": 1,
   "metadata": {},
   "outputs": [
    {
     "data": {
      "text/plain": [
       "time.struct_time(tm_year=2018, tm_mon=7, tm_mday=3, tm_hour=9, tm_min=0, tm_sec=0, tm_wday=1, tm_yday=184, tm_isdst=0)"
      ]
     },
     "execution_count": 1,
     "metadata": {},
     "output_type": "execute_result"
    }
   ],
   "source": [
    "import time\n",
    "time.gmtime(1530608400)"
   ]
  },
  {
   "cell_type": "code",
   "execution_count": 17,
   "metadata": {
    "collapsed": true
   },
   "outputs": [],
   "source": [
    "s = [80, 61, 75, 71, 63, 59, 76, 63]\n",
    "s = [1,2,3,1,2,3,4,0,1,2,3,1,2,3,4,0,1,2,3,1,2,3,4,0,1,2,3,1,2,3,4,0,1,2,3,1,2,3,4,0,\n",
    "     1,2,3,1,2,3,4,0,1,2,3,1,2,3,4,0,1,2,3,1,2,3,4,0]"
   ]
  },
  {
   "cell_type": "code",
   "execution_count": 20,
   "metadata": {},
   "outputs": [
    {
     "name": "stdout",
     "output_type": "stream",
     "text": [
      "[2.12132034 2.82842712 3.53553391 2.82842712 2.12132034 2.82842712\n",
      " 3.53553391 2.82842712 2.12132034 2.82842712 3.53553391 2.82842712\n",
      " 2.12132034 2.82842712 3.53553391 2.82842712 2.12132034 2.82842712\n",
      " 3.53553391 2.82842712 2.12132034 2.82842712 3.53553391 2.82842712\n",
      " 2.12132034 2.82842712 3.53553391 2.82842712 2.12132034 2.82842712\n",
      " 3.53553391 2.82842712] [-0.70710678  1.41421356 -0.70710678  2.82842712 -0.70710678  1.41421356\n",
      " -0.70710678  2.82842712 -0.70710678  1.41421356 -0.70710678  2.82842712\n",
      " -0.70710678  1.41421356 -0.70710678  2.82842712 -0.70710678  1.41421356\n",
      " -0.70710678  2.82842712 -0.70710678  1.41421356 -0.70710678  2.82842712\n",
      " -0.70710678  1.41421356 -0.70710678  2.82842712 -0.70710678  1.41421356\n",
      " -0.70710678  2.82842712]\n"
     ]
    }
   ],
   "source": [
    "cA, cD = pywt.dwt(s, 'haar')\n",
    "print(cA,cD)"
   ]
  },
  {
   "cell_type": "code",
   "execution_count": 4,
   "metadata": {},
   "outputs": [
    {
     "name": "stdout",
     "output_type": "stream",
     "text": [
      "[32, 32, 64, 128, 256, 512, 1024, 2048, 4096, 8192, 16384]\n"
     ]
    }
   ],
   "source": [
    "#[cA_n, cD_n, cD_n-1, …, cD2, cD1]\n",
    "s = [x for x in range(2**15)]\n",
    "coeffs = wavedec(s, 'haar', level=10)\n",
    "print( [len(coeffs[i]) for i in range(11)] )\n",
    "# len(coeffs)"
   ]
  },
  {
   "cell_type": "code",
   "execution_count": 30,
   "metadata": {},
   "outputs": [
    {
     "data": {
      "image/png": "[encoded data removed]",
      "text/plain": [
       "<matplotlib.figure.Figure at 0x8a7f4a8>"
      ]
     },
     "metadata": {},
     "output_type": "display_data"
    }
   ],
   "source": [
    "import matplotlib.pyplot as plt\n",
    "x=[[1,2,3,4],[1,2,3,4],[1,2,3,4],[1,2,3,4]]\n",
    "y=[[1,2,3,4,6,7,8,9],[2,3,4,5,8,9],[1,3,4,5,6],[7,8,9,10]]\n",
    "colours=['r','g','b','k']\n",
    "for i in range(len(x)):\n",
    "    plt.plot(y[i]) "
   ]
  },
  {
   "cell_type": "code",
   "execution_count": 40,
   "metadata": {},
   "outputs": [
    {
     "data": {
      "text/plain": [
       "[{'close': 125.12,\n",
       "  'high': 125.12,\n",
       "  'low': 125.12,\n",
       "  'open': 125.12,\n",
       "  'time': 1379408400,\n",
       "  'volumefrom': 0,\n",
       "  'volumeto': 0},\n",
       " {'close': 125.12,\n",
       "  'high': 125.12,\n",
       "  'low': 125.12,\n",
       "  'open': 125.12,\n",
       "  'time': 1379412000,\n",
       "  'volumefrom': 0,\n",
       "  'volumeto': 0}]"
      ]
     },
     "execution_count": 40,
     "metadata": {},
     "output_type": "execute_result"
    }
   ],
   "source": [
    "import json\n",
    "filename = \"hourly_1379408401.json\"\n",
    "with open(filename , \"r\") as f:\n",
    "    json_data = json.load(f)\n",
    "    \n",
    "json_data['Data']\n"
   ]
  },
  {
   "cell_type": "code",
   "execution_count": 41,
   "metadata": {},
   "outputs": [
    {
     "data": {
      "text/plain": [
       "[{'close': 125.12,\n",
       "  'high': 125.12,\n",
       "  'low': 125.12,\n",
       "  'open': 125.12,\n",
       "  'time': 1379408400,\n",
       "  'volumefrom': 0,\n",
       "  'volumeto': 0},\n",
       " {'close': 125.12,\n",
       "  'high': 125.12,\n",
       "  'low': 125.12,\n",
       "  'open': 125.12,\n",
       "  'time': 1379412000,\n",
       "  'volumefrom': 0,\n",
       "  'volumeto': 0},\n",
       " {'close': 125.12,\n",
       "  'high': 125.12,\n",
       "  'low': 125.12,\n",
       "  'open': 125.12,\n",
       "  'time': 1379408400,\n",
       "  'volumefrom': 0,\n",
       "  'volumeto': 0}]"
      ]
     },
     "execution_count": 41,
     "metadata": {},
     "output_type": "execute_result"
    }
   ],
   "source": [
    "data = json_data['Data']\n",
    "data.append( json_data['Data'][0] )\n",
    "data"
   ]
  },
  {
   "cell_type": "code",
   "execution_count": null,
   "metadata": {
    "collapsed": true
   },
   "outputs": [],
   "source": []
  },
  {
   "cell_type": "code",
   "execution_count": null,
   "metadata": {
    "collapsed": true
   },
   "outputs": [],
   "source": [
    "output['data'].append(output['data'][0])\n",
    "output\n"
   ]
  }
 ],
 "metadata": {
  "kernelspec": {
   "display_name": "Tensorflow Kernel",
   "language": "python",
   "name": "tensorflow_kernel"
  },
  "language_info": {
   "codemirror_mode": {
    "name": "ipython",
    "version": 3
   },
   "file_extension": ".py",
   "mimetype": "text/x-python",
   "name": "python",
   "nbconvert_exporter": "python",
   "pygments_lexer": "ipython3",
   "version": "3.6.4"
  }
 },
 "nbformat": 4,
 "nbformat_minor": 2
}
